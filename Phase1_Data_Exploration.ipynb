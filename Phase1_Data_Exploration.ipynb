{
 "cells": [
  {
   "cell_type": "markdown",
   "id": "f9daba63",
   "metadata": {},
   "source": [
    "## 1. Introduction\n",
    "Many university students experience irregular sleep schedules due to study pressure, extended screen time, and unhealthy daily habits.  \n",
    "Lack of proper sleep can affect focus, productivity, and overall mental and physical well-being. This project aims to study the factors that influence students’ sleep quality by analyzing real data and discovering patterns that connect lifestyle behaviors with sleep outcomes. Understanding these patterns can help raise awareness among students and encourage healthier academic and personal routines.\n",
    "\n",
    "\n",
    "\n",
    "### 1.1 Problem Definition\n",
    "Students often struggle to maintain a consistent and healthy sleep schedule because of academic workload, high stress levels, and technology usage late at night.These behaviors lead to poor sleep quality, fatigue, and reduced academic performance. The problem addressed in this project is the lack of understanding of how different lifestyle factors such as study hours, caffeine intake, and physical activity interact and influence sleep quality. By analyzing these relationships, the project seeks to highlight the main contributors to irregular sleep among university students.\n",
    "\n",
    "\n",
    "\n",
    "### 1.2 Project Scope\n",
    "* Data Understanding: Using a real-world dataset that contains students’ lifestyle and academic factors such as study hours, screen time, caffeine intake, and physical activity.  \n",
    "* Data Preprocessing: Handling missing values, verifying data consistency, and preparing the dataset for analysis.  \n",
    "* Exploratory Data Analysis: Exploring patterns and relationships between different variables to understand how lifestyle habits impact sleep quality.  \n",
    "* Visualization and Insights: Creating charts and statistical summaries to present findings about students’ sleep behaviors.  \n",
    "* Sleep Quality Prediction: Building a simple predictive framework that estimates or classifies sleep quality based on lifestyle and academic factors.  \n",
    "* Future Work: Expanding the system to provide personalized recommendations for improving sleep habits.\n",
    "\n",
    "---\n"
   ]
  },
  {
   "cell_type": "markdown",
   "id": "2b9132d1",
   "metadata": {},
   "source": [
    "## 2. Dataset Goal & Source\n",
    "\n",
    "### 2.1 Dataset Goal\n",
    "The Student Sleep Patterns dataset is designed to analyze and predict how academic and lifestyle factors affect students’ sleep quality and duration. It includes information such as study hours, screen time, caffeine intake, stress levels, and physical activity, allowing the exploration of correlations between daily habits and sleep quality. The dataset supports modeling and prediction to identify key factors that influence healthy and balanced sleep routines among university students.\n",
    "\n",
    "### 2.2 Dataset Source\n",
    "The dataset was obtained from a public Kaggle source titled *“Student Sleep Patterns Dataset”* created by Arsalan Jamal.  \n",
    "It provides real-world information about students’ demographics, study habits, screen time, caffeine intake, physical activity, and sleep quality.  \n",
    "[https://www.kaggle.com/datasets/arsalanjamal002/student-sleep-patterns](https://www.kaggle.com/datasets/arsalanjamal002/student-sleep-patterns)\n",
    "\n",
    "---\n"
   ]
  },
  {
   "cell_type": "markdown",
   "id": "b1c40739",
   "metadata": {},
   "source": [
    "## 3. General Information\n",
    "### 3.1 Number of Observations and Features"
   ]
  },
  {
   "cell_type": "code",
   "execution_count": null,
   "id": "2c107391",
   "metadata": {},
   "outputs": [
    {
     "data": {
      "text/plain": [
       "(500, 14)"
      ]
     },
     "execution_count": 3,
     "metadata": {},
     "output_type": "execute_result"
    }
   ],
   "source": [
    "df.shape"
   ]
  },
  {
   "cell_type": "markdown",
   "id": "6cdf705a",
   "metadata": {},
   "source": [
    "**Explanation:**\n",
    "\n",
    "The dataset contains **500 observations** (students) and **14 features** that capture various aspects of students' lifestyle, study habits, and sleep patterns.  \n",
    "\n",
    "Below is the full list of features:\n",
    "\n",
    "1- **Student_ID** = Unique identifier for each student record.  \n",
    "2- **Age** = The age of the student (in years).  \n",
    "3- **Gender** = The student’s gender (Male, Female, or Other).  \n",
    "4- **University_Year** = The academic year of the student (e.g., 1st, 2nd, 3rd, 4th).  \n",
    "5- **Sleep_Duration** = The average number of sleep hours per night.  \n",
    "6- **Study_Hours** = The average number of study hours per day.  \n",
    "7- **Screen_Time** = The average daily screen exposure (in hours).  \n",
    "8- **Caffeine_Intake** = The number of caffeine servings consumed per day (coffee, energy drinks, etc.).  \n",
    "9- **Physical_Activity** = A numeric indicator of how active the student is (e.g., exercise frequency).  \n",
    "10- **Sleep_Quality** = The target variable indicating sleep quality on a scale of 1 to 10 (higher = better).  \n",
    "11- **Weekday_Sleep_Start** = Average time the student goes to sleep during weekdays.  \n",
    "12- **Weekday_Sleep_End** = Average time the student wakes up during weekdays.  \n",
    "13- **Weekend_Sleep_Start** = Average time the student goes to sleep during weekends.  \n",
    "14- **Weekend_Sleep_End** = Average time the student wakes up during weekends.  "
   ]
  },
  {
   "cell_type": "markdown",
   "id": "b6873ca3",
   "metadata": {},
   "source": [
    "### 3.2 Data Types"
   ]
  },
  {
   "cell_type": "code",
   "execution_count": 4,
   "id": "24c472b6",
   "metadata": {},
   "outputs": [
    {
     "data": {
      "text/plain": [
       "Student_ID               int64\n",
       "Age                      int64\n",
       "Gender                  object\n",
       "University_Year         object\n",
       "Sleep_Duration         float64\n",
       "Study_Hours            float64\n",
       "Screen_Time            float64\n",
       "Caffeine_Intake          int64\n",
       "Physical_Activity        int64\n",
       "Sleep_Quality            int64\n",
       "Weekday_Sleep_Start    float64\n",
       "Weekend_Sleep_Start    float64\n",
       "Weekday_Sleep_End      float64\n",
       "Weekend_Sleep_End      float64\n",
       "dtype: object"
      ]
     },
     "execution_count": 4,
     "metadata": {},
     "output_type": "execute_result"
    }
   ],
   "source": [
    "df.dtypes"
   ]
  },
  {
   "cell_type": "markdown",
   "id": "bb059288",
   "metadata": {},
   "source": [
    "**Explanation:**\n",
    "\n",
    "The dataset contains both **numerical** and **categorical** data types.\n",
    "\n",
    "1- **Numerical Features (int64 / float64):**  \n",
    "  `Age`, `Sleep_Duration`, `Study_Hours`, `Screen_Time`, `Caffeine_Intake`, `Physical_Activity`,  \n",
    "  `Sleep_Quality`, `Weekday_Sleep_Start`, `Weekday_Sleep_End`, `Weekend_Sleep_Start`, `Weekend_Sleep_End`\n",
    "\n",
    "2- **Categorical Features (object):**  \n",
    "  `Gender`, `University_Year`\n",
    "\n",
    "3- **Identifier:**  \n",
    "  `Student_ID` — a unique identifier for each record that doesn’t affect prediction.\n"
   ]
  },
  {
   "cell_type": "markdown",
   "id": "81861011",
   "metadata": {},
   "source": [
    "### 3.3 Target Variable / Classes Description"
   ]
  },
  {
   "cell_type": "code",
   "execution_count": 5,
   "id": "0afffd15",
   "metadata": {},
   "outputs": [
    {
     "data": {
      "text/plain": [
       "Sleep_Quality\n",
       "1     66\n",
       "2     46\n",
       "3     54\n",
       "4     46\n",
       "5     41\n",
       "6     57\n",
       "7     45\n",
       "8     40\n",
       "9     55\n",
       "10    50\n",
       "Name: count, dtype: int64"
      ]
     },
     "execution_count": 5,
     "metadata": {},
     "output_type": "execute_result"
    }
   ],
   "source": [
    "df['Sleep_Quality'].value_counts().sort_index()"
   ]
  },
  {
   "cell_type": "markdown",
   "id": "71cf71b9",
   "metadata": {},
   "source": [
    "**Explanation:**\n",
    "\n",
    "The result above shows the distribution of the **Sleep_Quality** column.  \n",
    "On the **left side**, the numbers represent the different **sleep quality levels** from **1 to 10**,  \n",
    "and on the **right side**, we can see how many students fall into each level.\n",
    "\n",
    "For example, **66 students** have a sleep quality of **1**, **46 students** rated **2**, and so on.  \n",
    "This means that each value shows how many students reported that specific level of sleep quality.\n",
    "\n",
    "Overall, the data looks balanced — there isn’t a big difference between the groups.  \n",
    "Most students fall between **5 and 9**, which suggests that the majority have **moderate to good sleep quality**."
   ]
  },
  {
   "cell_type": "markdown",
   "id": "3e5207f1",
   "metadata": {},
   "source": [
    "### 3.4 Summary & Visualization\n",
    "#### 3.4.1 Statistical Summary"
   ]
  },
  {
   "cell_type": "code",
   "execution_count": 10,
   "id": "b8538ff5",
   "metadata": {},
   "outputs": [
    {
     "data": {
      "text/html": [
       "<div>\n",
       "<style scoped>\n",
       "    .dataframe tbody tr th:only-of-type {\n",
       "        vertical-align: middle;\n",
       "    }\n",
       "\n",
       "    .dataframe tbody tr th {\n",
       "        vertical-align: top;\n",
       "    }\n",
       "\n",
       "    .dataframe thead th {\n",
       "        text-align: right;\n",
       "    }\n",
       "</style>\n",
       "<table border=\"1\" class=\"dataframe\">\n",
       "  <thead>\n",
       "    <tr style=\"text-align: right;\">\n",
       "      <th></th>\n",
       "      <th>Age</th>\n",
       "      <th>Sleep_Duration</th>\n",
       "      <th>Study_Hours</th>\n",
       "      <th>Screen_Time</th>\n",
       "      <th>Caffeine_Intake</th>\n",
       "      <th>Physical_Activity</th>\n",
       "      <th>Sleep_Quality</th>\n",
       "      <th>Weekday_Sleep_Start</th>\n",
       "      <th>Weekend_Sleep_Start</th>\n",
       "      <th>Weekday_Sleep_End</th>\n",
       "      <th>Weekend_Sleep_End</th>\n",
       "    </tr>\n",
       "  </thead>\n",
       "  <tbody>\n",
       "    <tr>\n",
       "      <th>count</th>\n",
       "      <td>500.00000</td>\n",
       "      <td>500.000000</td>\n",
       "      <td>500.000000</td>\n",
       "      <td>500.000000</td>\n",
       "      <td>500.000000</td>\n",
       "      <td>500.000000</td>\n",
       "      <td>500.000000</td>\n",
       "      <td>500.000000</td>\n",
       "      <td>500.000000</td>\n",
       "      <td>500.000000</td>\n",
       "      <td>500.000000</td>\n",
       "    </tr>\n",
       "    <tr>\n",
       "      <th>mean</th>\n",
       "      <td>21.53600</td>\n",
       "      <td>6.472400</td>\n",
       "      <td>5.981600</td>\n",
       "      <td>2.525000</td>\n",
       "      <td>2.462000</td>\n",
       "      <td>62.342000</td>\n",
       "      <td>5.362000</td>\n",
       "      <td>11.166860</td>\n",
       "      <td>12.375860</td>\n",
       "      <td>6.929900</td>\n",
       "      <td>8.988100</td>\n",
       "    </tr>\n",
       "    <tr>\n",
       "      <th>std</th>\n",
       "      <td>2.33315</td>\n",
       "      <td>1.485764</td>\n",
       "      <td>3.475725</td>\n",
       "      <td>0.859414</td>\n",
       "      <td>1.682325</td>\n",
       "      <td>35.191674</td>\n",
       "      <td>2.967249</td>\n",
       "      <td>5.972352</td>\n",
       "      <td>5.789611</td>\n",
       "      <td>1.183174</td>\n",
       "      <td>1.111253</td>\n",
       "    </tr>\n",
       "    <tr>\n",
       "      <th>min</th>\n",
       "      <td>18.00000</td>\n",
       "      <td>4.000000</td>\n",
       "      <td>0.100000</td>\n",
       "      <td>1.000000</td>\n",
       "      <td>0.000000</td>\n",
       "      <td>0.000000</td>\n",
       "      <td>1.000000</td>\n",
       "      <td>1.080000</td>\n",
       "      <td>2.050000</td>\n",
       "      <td>5.000000</td>\n",
       "      <td>7.020000</td>\n",
       "    </tr>\n",
       "    <tr>\n",
       "      <th>25%</th>\n",
       "      <td>20.00000</td>\n",
       "      <td>5.100000</td>\n",
       "      <td>2.900000</td>\n",
       "      <td>1.800000</td>\n",
       "      <td>1.000000</td>\n",
       "      <td>32.750000</td>\n",
       "      <td>3.000000</td>\n",
       "      <td>6.087500</td>\n",
       "      <td>7.297500</td>\n",
       "      <td>5.900000</td>\n",
       "      <td>8.047500</td>\n",
       "    </tr>\n",
       "    <tr>\n",
       "      <th>50%</th>\n",
       "      <td>21.00000</td>\n",
       "      <td>6.500000</td>\n",
       "      <td>6.050000</td>\n",
       "      <td>2.600000</td>\n",
       "      <td>2.000000</td>\n",
       "      <td>62.500000</td>\n",
       "      <td>5.000000</td>\n",
       "      <td>10.635000</td>\n",
       "      <td>12.690000</td>\n",
       "      <td>6.885000</td>\n",
       "      <td>9.005000</td>\n",
       "    </tr>\n",
       "    <tr>\n",
       "      <th>75%</th>\n",
       "      <td>24.00000</td>\n",
       "      <td>7.800000</td>\n",
       "      <td>8.800000</td>\n",
       "      <td>3.300000</td>\n",
       "      <td>4.000000</td>\n",
       "      <td>93.250000</td>\n",
       "      <td>8.000000</td>\n",
       "      <td>16.152500</td>\n",
       "      <td>17.327500</td>\n",
       "      <td>7.972500</td>\n",
       "      <td>9.925000</td>\n",
       "    </tr>\n",
       "    <tr>\n",
       "      <th>max</th>\n",
       "      <td>25.00000</td>\n",
       "      <td>9.000000</td>\n",
       "      <td>12.000000</td>\n",
       "      <td>4.000000</td>\n",
       "      <td>5.000000</td>\n",
       "      <td>120.000000</td>\n",
       "      <td>10.000000</td>\n",
       "      <td>21.930000</td>\n",
       "      <td>22.000000</td>\n",
       "      <td>8.980000</td>\n",
       "      <td>10.990000</td>\n",
       "    </tr>\n",
       "  </tbody>\n",
       "</table>\n",
       "</div>"
      ],
      "text/plain": [
       "             Age  Sleep_Duration  Study_Hours  Screen_Time  Caffeine_Intake  \\\n",
       "count  500.00000      500.000000   500.000000   500.000000       500.000000   \n",
       "mean    21.53600        6.472400     5.981600     2.525000         2.462000   \n",
       "std      2.33315        1.485764     3.475725     0.859414         1.682325   \n",
       "min     18.00000        4.000000     0.100000     1.000000         0.000000   \n",
       "25%     20.00000        5.100000     2.900000     1.800000         1.000000   \n",
       "50%     21.00000        6.500000     6.050000     2.600000         2.000000   \n",
       "75%     24.00000        7.800000     8.800000     3.300000         4.000000   \n",
       "max     25.00000        9.000000    12.000000     4.000000         5.000000   \n",
       "\n",
       "       Physical_Activity  Sleep_Quality  Weekday_Sleep_Start  \\\n",
       "count         500.000000     500.000000           500.000000   \n",
       "mean           62.342000       5.362000            11.166860   \n",
       "std            35.191674       2.967249             5.972352   \n",
       "min             0.000000       1.000000             1.080000   \n",
       "25%            32.750000       3.000000             6.087500   \n",
       "50%            62.500000       5.000000            10.635000   \n",
       "75%            93.250000       8.000000            16.152500   \n",
       "max           120.000000      10.000000            21.930000   \n",
       "\n",
       "       Weekend_Sleep_Start  Weekday_Sleep_End  Weekend_Sleep_End  \n",
       "count           500.000000         500.000000         500.000000  \n",
       "mean             12.375860           6.929900           8.988100  \n",
       "std               5.789611           1.183174           1.111253  \n",
       "min               2.050000           5.000000           7.020000  \n",
       "25%               7.297500           5.900000           8.047500  \n",
       "50%              12.690000           6.885000           9.005000  \n",
       "75%              17.327500           7.972500           9.925000  \n",
       "max              22.000000           8.980000          10.990000  "
      ]
     },
     "execution_count": 10,
     "metadata": {},
     "output_type": "execute_result"
    }
   ],
   "source": [
    "df.drop(columns=['Student_ID']).describe()"
   ]
  },
  {
   "cell_type": "markdown",
   "id": "5b9506d6",
   "metadata": {},
   "source": [
    "**Explanation:**\n",
    "\n",
    "This table displays the statistical summary for all numerical features in the dataset, excluding `Student_ID`, `Gender`, and `University_Year`.  \n",
    "The categorical columns were not included because they are non-numeric.  \n",
    "\n",
    "From this summary:\n",
    "1- The average student age is around **21.5 years**, ranging between **18 and 25**.  \n",
    "2- The average **Sleep Duration** is approximately **6.5 hours**, while **Study Hours** average around **6 hours per day**.  \n",
    "3- The **Screen Time** mean is about **2.5 hours**, and **Caffeine Intake** averages **2 to 3 cups per day**.  \n",
    "4- **Physical Activity** levels vary widely, indicating differences in lifestyle habits.  \n",
    "5- **Sleep Quality** ranges from **1 to 10**, showing a broad spread across different students.\n",
    "6- The **Weekday_Sleep_Start** values range generally from **19.0 to 23.0 hours**, with an **average near 21.0 (≈ 9:00 PM)**.  \n",
    "7- On weekends, the **Weekend_Sleep_Start** values often fall between **0.0 and 3.5 hours**, averaging around **0.5–1.0 (≈ 12:30 AM)** — showing that students go to bed about **2 hours later on weekends**.  \n",
    "8- The **Weekday_Sleep_End** values cluster between **6.0 and 8.0 hours (≈ 6:00–8:00 AM)**\n",
    "9- On **Weekend_Sleep_End** extends between **8.5 and 10.5 hours (≈ 8:30–10:30 AM)**, meaning students **wake up around 2 hours later on weekends**.    "
   ]
  },
  {
   "cell_type": "markdown",
   "id": "3858a99e",
   "metadata": {},
   "source": [
    "#### 3.4.2 Variable Distributions Visualization"
   ]
  },
  {
   "cell_type": "markdown",
   "id": "a9f46f5a",
   "metadata": {},
   "source": [
    "#### 3.4.3 Missing Value Analysis"
   ]
  },
  {
   "cell_type": "markdown",
   "id": "03d6d2af",
   "metadata": {},
   "source": [
    "#### 3.4.4 Class Imbalance"
   ]
  },
  {
   "cell_type": "markdown",
   "id": "e80ef19c",
   "metadata": {},
   "source": [
    "\n",
    "## 4. Preprocessing Techniques\n",
    "Preprocessing is an essential step that prepares the dataset for accurate and meaningful analysis. It ensures that the data is clean, consistent, and properly formatted before performing any statistical or predictive modeling. The preprocessing phase typically involves checking for missing values, transforming variables, normalizing data ranges, and removing unnecessary or redundant information.\n",
    "### 4.1 Variable Transformation\n",
    "Transforming categorical variables into numerical form is an important step that enables proper statistical analysis and model training. In this dataset, variables such as **Gender** and **University_Year** contain categorical values that need to be represented numerically for easier processing and interpretation.  \n",
    "To achieve this, they were encoded into numeric values as follows:  \n",
    "\n",
    "- **Gender:** Female → 0, Male → 1, Other → 2  \n",
    "- **University_Year:** 1st Year → 1, 2nd Year → 2, 3rd Year → 3, 4th Year → 4  \n",
    "\n",
    "This transformation helps standardize the data, allowing models to recognize and analyze relationships between categories more effectively.  \n",
    "By converting these variables, the dataset becomes more consistent and ready for the upcoming modeling phase.\n",
    "\n"
   ]
  },
  {
   "cell_type": "markdown",
   "id": "2741f551",
   "metadata": {},
   "source": [
    "### 4.2 Discretization\n"
   ]
  },
  {
   "cell_type": "markdown",
   "id": "7d55cdb8",
   "metadata": {},
   "source": [
    "### 4.3 Value or Variable Removal\n",
    "We first examined whether the **Student_ID** variable provides any meaningful contribution to understanding students’ sleep patterns. After review, we confirmed that **Student_ID** serves only as a unique identifier and does not contain analytical value related to lifestyle or academic factors. Therefore, it was removed from the dataset to prevent unnecessary complexity and ensure the analysis focuses on relevant attributes such as sleep duration, study hours, screen time, and caffeine intake. Removing this column improves the dataset’s clarity and supports more accurate modeling and interpretation.\n"
   ]
  },
  {
   "cell_type": "code",
   "execution_count": 5,
   "id": "0284b7ec",
   "metadata": {},
   "outputs": [
    {
     "name": "stdout",
     "output_type": "stream",
     "text": [
      "'Student_ID' column has been removed successfully.\n",
      "Number of columns before removal: 14\n",
      "Number of columns after removal: 13\n"
     ]
    },
    {
     "data": {
      "text/html": [
       "<div>\n",
       "<style scoped>\n",
       "    .dataframe tbody tr th:only-of-type {\n",
       "        vertical-align: middle;\n",
       "    }\n",
       "\n",
       "    .dataframe tbody tr th {\n",
       "        vertical-align: top;\n",
       "    }\n",
       "\n",
       "    .dataframe thead th {\n",
       "        text-align: right;\n",
       "    }\n",
       "</style>\n",
       "<table border=\"1\" class=\"dataframe\">\n",
       "  <thead>\n",
       "    <tr style=\"text-align: right;\">\n",
       "      <th></th>\n",
       "      <th>Age</th>\n",
       "      <th>Gender</th>\n",
       "      <th>University_Year</th>\n",
       "      <th>Sleep_Duration</th>\n",
       "      <th>Study_Hours</th>\n",
       "      <th>Screen_Time</th>\n",
       "      <th>Caffeine_Intake</th>\n",
       "      <th>Physical_Activity</th>\n",
       "      <th>Sleep_Quality</th>\n",
       "      <th>Weekday_Sleep_Start</th>\n",
       "      <th>Weekend_Sleep_Start</th>\n",
       "      <th>Weekday_Sleep_End</th>\n",
       "      <th>Weekend_Sleep_End</th>\n",
       "    </tr>\n",
       "  </thead>\n",
       "  <tbody>\n",
       "    <tr>\n",
       "      <th>0</th>\n",
       "      <td>24</td>\n",
       "      <td>Other</td>\n",
       "      <td>2nd Year</td>\n",
       "      <td>7.7</td>\n",
       "      <td>7.9</td>\n",
       "      <td>3.4</td>\n",
       "      <td>2</td>\n",
       "      <td>37</td>\n",
       "      <td>10</td>\n",
       "      <td>14.16</td>\n",
       "      <td>4.05</td>\n",
       "      <td>7.41</td>\n",
       "      <td>7.06</td>\n",
       "    </tr>\n",
       "    <tr>\n",
       "      <th>1</th>\n",
       "      <td>21</td>\n",
       "      <td>Male</td>\n",
       "      <td>1st Year</td>\n",
       "      <td>6.3</td>\n",
       "      <td>6.0</td>\n",
       "      <td>1.9</td>\n",
       "      <td>5</td>\n",
       "      <td>74</td>\n",
       "      <td>2</td>\n",
       "      <td>8.73</td>\n",
       "      <td>7.10</td>\n",
       "      <td>8.21</td>\n",
       "      <td>10.21</td>\n",
       "    </tr>\n",
       "    <tr>\n",
       "      <th>2</th>\n",
       "      <td>22</td>\n",
       "      <td>Male</td>\n",
       "      <td>4th Year</td>\n",
       "      <td>5.1</td>\n",
       "      <td>6.7</td>\n",
       "      <td>3.9</td>\n",
       "      <td>5</td>\n",
       "      <td>53</td>\n",
       "      <td>5</td>\n",
       "      <td>20.00</td>\n",
       "      <td>20.47</td>\n",
       "      <td>6.88</td>\n",
       "      <td>10.92</td>\n",
       "    </tr>\n",
       "    <tr>\n",
       "      <th>3</th>\n",
       "      <td>24</td>\n",
       "      <td>Other</td>\n",
       "      <td>4th Year</td>\n",
       "      <td>6.3</td>\n",
       "      <td>8.6</td>\n",
       "      <td>2.8</td>\n",
       "      <td>4</td>\n",
       "      <td>55</td>\n",
       "      <td>9</td>\n",
       "      <td>19.82</td>\n",
       "      <td>4.08</td>\n",
       "      <td>6.69</td>\n",
       "      <td>9.42</td>\n",
       "    </tr>\n",
       "    <tr>\n",
       "      <th>4</th>\n",
       "      <td>20</td>\n",
       "      <td>Male</td>\n",
       "      <td>4th Year</td>\n",
       "      <td>4.7</td>\n",
       "      <td>2.7</td>\n",
       "      <td>2.7</td>\n",
       "      <td>0</td>\n",
       "      <td>85</td>\n",
       "      <td>3</td>\n",
       "      <td>20.98</td>\n",
       "      <td>6.12</td>\n",
       "      <td>8.98</td>\n",
       "      <td>9.01</td>\n",
       "    </tr>\n",
       "  </tbody>\n",
       "</table>\n",
       "</div>"
      ],
      "text/plain": [
       "   Age Gender University_Year  Sleep_Duration  Study_Hours  Screen_Time  \\\n",
       "0   24  Other        2nd Year             7.7          7.9          3.4   \n",
       "1   21   Male        1st Year             6.3          6.0          1.9   \n",
       "2   22   Male        4th Year             5.1          6.7          3.9   \n",
       "3   24  Other        4th Year             6.3          8.6          2.8   \n",
       "4   20   Male        4th Year             4.7          2.7          2.7   \n",
       "\n",
       "   Caffeine_Intake  Physical_Activity  Sleep_Quality  Weekday_Sleep_Start  \\\n",
       "0                2                 37             10                14.16   \n",
       "1                5                 74              2                 8.73   \n",
       "2                5                 53              5                20.00   \n",
       "3                4                 55              9                19.82   \n",
       "4                0                 85              3                20.98   \n",
       "\n",
       "   Weekend_Sleep_Start  Weekday_Sleep_End  Weekend_Sleep_End  \n",
       "0                 4.05               7.41               7.06  \n",
       "1                 7.10               8.21              10.21  \n",
       "2                20.47               6.88              10.92  \n",
       "3                 4.08               6.69               9.42  \n",
       "4                 6.12               8.98               9.01  "
      ]
     },
     "execution_count": 5,
     "metadata": {},
     "output_type": "execute_result"
    }
   ],
   "source": [
    "import pandas as pd\n",
    "\n",
    "# Load dataset\n",
    "df = pd.read_csv(\"Dataset/student_sleep_patterns.csv\")\n",
    "\n",
    "# Remove the Student_ID column since it does not contribute to the analysis\n",
    "initial_columns = df.shape[1]\n",
    "\n",
    "df = df.drop(columns=['Student_ID'])\n",
    "\n",
    "print(\"'Student_ID' column has been removed successfully.\")\n",
    "print(f\"Number of columns before removal: {initial_columns}\")\n",
    "print(f\"Number of columns after removal: {df.shape[1]}\")\n",
    "\n",
    "# Display the first few rows to confirm the change\n",
    "df.head()\n"
   ]
  },
  {
   "cell_type": "markdown",
   "id": "873e9376",
   "metadata": {},
   "source": [
    "### 4.4 Normalization\n"
   ]
  },
  {
   "cell_type": "markdown",
   "id": "9014777a",
   "metadata": {},
   "source": [
    "### 4.5 Handling Missing Values"
   ]
  },
  {
   "cell_type": "markdown",
   "id": "b86c68a6",
   "metadata": {},
   "source": [
    "### 4.6 Handling Duplicates"
   ]
  }
 ],
 "metadata": {
  "kernelspec": {
   "display_name": "venv",
   "language": "python",
   "name": "python3"
  },
  "language_info": {
   "codemirror_mode": {
    "name": "ipython",
    "version": 3
   },
   "file_extension": ".py",
   "mimetype": "text/x-python",
   "name": "python",
   "nbconvert_exporter": "python",
   "pygments_lexer": "ipython3",
   "version": "3.13.2"
  }
 },
 "nbformat": 4,
 "nbformat_minor": 5
}
